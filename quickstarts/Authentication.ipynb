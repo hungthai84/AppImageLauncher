{
  "cells": [
    {
      "cell_type": "markdown",
      "metadata": {
        "id": "view-in-github",
        "colab_type": "text"
      },
      "source": [
        "<a href=\"https://colab.research.google.com/github/hungthai84/AppImageLauncher/blob/master/quickstarts/Authentication.ipynb\" target=\"_parent\"><img src=\"https://colab.research.google.com/assets/colab-badge.svg\" alt=\"Open In Colab\"/></a>"
      ]
    },
    {
      "cell_type": "markdown",
      "metadata": {
        "id": "Tce3stUlHN0L"
      },
      "source": [
        "##### Copyright 2025 Google LLC."
      ]
    },
    {
      "cell_type": "code",
      "execution_count": 1,
      "metadata": {
        "id": "tuOe1ymfHZPu"
      },
      "outputs": [],
      "source": [
        "# @title Licensed under the Apache License, Version 2.0 (the \"License\");\n",
        "# you may not use this file except in compliance with the License.\n",
        "# You may obtain a copy of the License at\n",
        "#\n",
        "# https://www.apache.org/licenses/LICENSE-2.0\n",
        "#\n",
        "# Unless required by applicable law or agreed to in writing, software\n",
        "# distributed under the License is distributed on an \"AS IS\" BASIS,\n",
        "# WITHOUT WARRANTIES OR CONDITIONS OF ANY KIND, either express or implied.\n",
        "# See the License for the specific language governing permissions and\n",
        "# limitations under the License."
      ]
    },
    {
      "cell_type": "markdown",
      "metadata": {
        "id": "yeadDkMiISin"
      },
      "source": [
        "# Gemini API: Authentication Quickstart"
      ]
    },
    {
      "cell_type": "markdown",
      "metadata": {
        "id": "lEXQ3OwKIa-O"
      },
      "source": [
        "<a target=\"_blank\" href=\"https://colab.research.google.com/github/google-gemini/cookbook/blob/main/quickstarts/Authentication.ipynb\"><img src=\"https://colab.research.google.com/assets/colab-badge.svg\" height=30/></a>"
      ]
    },
    {
      "cell_type": "markdown",
      "metadata": {
        "id": "df1767a3d1cc"
      },
      "source": [
        "The Gemini API uses API keys for authentication. This notebook walks you through creating an API key, and using it with the Python SDK or a command-line tool like `curl`."
      ]
    },
    {
      "cell_type": "markdown",
      "metadata": {
        "id": "mhFKmRmxi5B-"
      },
      "source": [
        "## Create an API key\n",
        "\n",
        "You can [create](https://aistudio.google.com/app/apikey) your API key using Google AI Studio with a single click.  \n",
        "\n",
        "Remember to treat your API key like a password. Don't accidentally save it in a notebook or source file you later commit to GitHub. This notebook shows you two ways you can securely store your API key.\n",
        "\n",
        "* If you're using Google Colab, it's recommended to store your key in Colab Secrets.\n",
        "\n",
        "* If you're using a different development environment (or calling the Gemini API through `cURL` in your terminal), it's recommended to store your key in an [environment variable](https://en.wikipedia.org/wiki/Environment_variable).\n",
        "\n",
        "Let's start with Colab Secrets."
      ]
    },
    {
      "cell_type": "markdown",
      "metadata": {
        "id": "dEoigYI9Jw_K"
      },
      "source": [
        "## Add your key to Colab Secrets\n",
        "\n",
        "Add your API key to the Colab Secrets manager to securely store it.\n",
        "\n",
        "1. Open your Google Colab notebook and click on the 🔑 **Secrets** tab in the left panel.\n",
        "   \n",
        "   <img src=\"https://storage.googleapis.com/generativeai-downloads/images/secrets.jpg\" alt=\"You can find the Secrets tab on the left panel.\" width=50%>\n",
        "\n",
        "2. Create a new secret with the name `GOOGLE_API_KEY`.\n",
        "3. Copy and paste your API key into the `Value` input box of `GOOGLE_API_KEY`.\n",
        "4. Toggle the button on the left to allow all notebooks access to the secret.\n"
      ]
    },
    {
      "cell_type": "markdown",
      "metadata": {
        "id": "jRY1eioF4gUB"
      },
      "source": [
        "## Install the Python SDK"
      ]
    },
    {
      "cell_type": "code",
      "execution_count": 2,
      "metadata": {
        "id": "xuiLSV7amy3P",
        "outputId": "d0a02d8f-762f-4600-f26f-022a46ffeaea",
        "colab": {
          "base_uri": "https://localhost:8080/"
        }
      },
      "outputs": [
        {
          "output_type": "stream",
          "name": "stdout",
          "text": [
            "\u001b[?25l   \u001b[90m━━━━━━━━━━━━━━━━━━━━━━━━━━━━━━━━━━━━━━━━\u001b[0m \u001b[32m0.0/200.0 kB\u001b[0m \u001b[31m?\u001b[0m eta \u001b[36m-:--:--\u001b[0m\r\u001b[2K   \u001b[90m━━━━━━━━━━━━━━━━━━━━━━━━━━━━━━━━━━━━━━━━\u001b[0m \u001b[32m200.0/200.0 kB\u001b[0m \u001b[31m6.0 MB/s\u001b[0m eta \u001b[36m0:00:00\u001b[0m\n",
            "\u001b[?25h"
          ]
        }
      ],
      "source": [
        "%pip install -qU 'google-genai>=1.19.0'"
      ]
    },
    {
      "cell_type": "markdown",
      "metadata": {
        "id": "3dw8ygh74mVc"
      },
      "source": [
        "## Configure the SDK with your API key\n",
        "\n",
        "You create a client using your API key, but instead of pasting your key into the notebook, you'll read it from Colab Secrets thanks to `userdata`."
      ]
    },
    {
      "cell_type": "code",
      "execution_count": 3,
      "metadata": {
        "id": "DTl-qZp34sht"
      },
      "outputs": [],
      "source": [
        "from google import genai\n",
        "from google.colab import userdata\n",
        "\n",
        "GOOGLE_API_KEY = userdata.get('GOOGLE_API_KEY')\n",
        "client = genai.Client(api_key=GOOGLE_API_KEY)"
      ]
    },
    {
      "cell_type": "markdown",
      "metadata": {
        "id": "b7ceb7517bf5"
      },
      "source": [
        "Now choose a model. The Gemini API offers different models that are optimized for specific use cases. For more information check [Gemini models](https://ai.google.dev/gemini-api/docs/models)"
      ]
    },
    {
      "cell_type": "code",
      "execution_count": 4,
      "metadata": {
        "id": "7135d9ae3e4b"
      },
      "outputs": [],
      "source": [
        "MODEL_ID = \"gemini-2.5-flash-preview-05-20\" # @param [\"gemini-2.0-flash-lite\",\"gemini-2.0-flash\",\"gemini-2.5-flash-preview-05-20\",\"gemini-2.5-pro-preview-06-05\"] {\"allow-input\":true, isTemplate: true}"
      ]
    },
    {
      "cell_type": "markdown",
      "metadata": {
        "id": "tr7oAO6-nMsE"
      },
      "source": [
        "And that's it! Now you're ready to call the Gemini API."
      ]
    },
    {
      "cell_type": "code",
      "execution_count": 5,
      "metadata": {
        "id": "n6sXnWrJoKoo",
        "outputId": "5888276b-ed75-49ef-d239-f2c04a8238e8",
        "colab": {
          "base_uri": "https://localhost:8080/",
          "height": 1000
        }
      },
      "outputs": [
        {
          "output_type": "display_data",
          "data": {
            "text/plain": [
              "<IPython.core.display.Markdown object>"
            ],
            "text/markdown": "Python provides very powerful and flexible ways to sort lists. There are two primary built-in methods:\n\n1.  **`list.sort()`**: This method *modifies the list in-place* and returns `None`.\n2.  **`sorted()`**: This built-in function *returns a new sorted list* and leaves the original list unchanged.\n\nLet's look at examples for both, along with common customization options.\n\n---\n\n### 1. `list.sort()` - Modifies the Original List (In-place)\n\nUse this when you don't need the original order of the list.\n\n```python\n# Example 1: Basic numerical sort (ascending by default)\nmy_list = [3, 1, 4, 1, 5, 9, 2, 6, 5, 3]\nprint(\"Original list:\", my_list)\n\nmy_list.sort() # Modifies my_list directly\nprint(\"Sorted list (ascending):\", my_list)\n\n# Example 2: Sorting in descending order\nmy_list = [3, 1, 4, 1, 5, 9, 2, 6, 5, 3] # Reset for demonstration\nmy_list.sort(reverse=True)\nprint(\"Sorted list (descending):\", my_list)\n\n# Example 3: Sorting strings\nfruits = [\"banana\", \"apple\", \"cherry\", \"date\", \"Apple\"]\nprint(\"\\nOriginal fruits:\", fruits)\nfruits.sort() # Sorts alphabetically (case-sensitive: uppercase before lowercase)\nprint(\"Sorted fruits (ascending):\", fruits)\n\nfruits.sort(key=str.lower) # Sorts alphabetically (case-insensitive)\nprint(\"Sorted fruits (case-insensitive):\", fruits)\n```\n\n**Key Points about `list.sort()`:**\n*   It's a method of the list object itself.\n*   It changes the list directly.\n*   It returns `None`, so `new_list = old_list.sort()` would make `new_list` equal to `None`.\n\n---\n\n### 2. `sorted()` - Returns a New Sorted List\n\nUse this when you need to preserve the original list or if you want to sort other iterable types (like tuples, strings, sets, etc.) into a list.\n\n```python\n# Example 1: Basic numerical sort (ascending by default)\nmy_list = [3, 1, 4, 1, 5, 9, 2, 6, 5, 3]\nprint(\"\\nOriginal list:\", my_list)\n\nnew_sorted_list = sorted(my_list) # Returns a new sorted list\nprint(\"Original list (unchanged):\", my_list)\nprint(\"New sorted list (ascending):\", new_sorted_list)\n\n# Example 2: Sorting in descending order\nanother_list = [10, 5, 8, 2, 1]\ndesc_sorted_list = sorted(another_list, reverse=True)\nprint(\"\\nOriginal another_list:\", another_list)\nprint(\"New sorted another_list (descending):\", desc_sorted_list)\n\n# Example 3: Sorting strings\ncolors = [\"red\", \"Green\", \"blue\", \"Yellow\"]\nsorted_colors = sorted(colors) # Case-sensitive\nprint(\"\\nOriginal colors:\", colors)\nprint(\"Sorted colors (case-sensitive):\", sorted_colors)\n\nsorted_colors_ci = sorted(colors, key=str.lower) # Case-insensitive\nprint(\"Sorted colors (case-insensitive):\", sorted_colors_ci)\n\n# Example 4: Sorting a tuple (sorted() can take any iterable)\nmy_tuple = (5, 2, 8, 1, 9)\nsorted_tuple_as_list = sorted(my_tuple)\nprint(\"\\nOriginal tuple:\", my_tuple)\nprint(\"Sorted tuple (as list):\", sorted_tuple_as_list)\n```\n\n**Key Points about `sorted()`:**\n*   It's a built-in function, not a method of lists specifically.\n*   It takes an iterable (list, tuple, string, set, etc.) as input.\n*   It *always* returns a new `list` containing the sorted elements.\n*   It leaves the original iterable unchanged.\n\n---\n\n### 3. Custom Sorting with the `key` Argument\n\nBoth `sort()` and `sorted()` accept a `key` argument, which is a function that will be called on each element of the list before comparisons are made. The `key` function should return a value that will be used for sorting.\n\nThis is extremely powerful for sorting lists of custom objects or complex data structures.\n\n```python\n# Example 1: Sorting a list of tuples by the second element\nitems = [('apple', 10), ('banana', 3), ('cherry', 8), ('date', 5)]\nprint(\"\\nOriginal items:\", items)\n\n# Sort by the second element (index 1)\n# lambda x: x[1] is an anonymous function that takes an item (x) and returns its second element.\nsorted_by_count = sorted(items, key=lambda x: x[1])\nprint(\"Sorted by count (ascending):\", sorted_by_count)\n\n# Sort by the first element (index 0) in reverse\nsorted_by_name_desc = sorted(items, key=lambda x: x[0], reverse=True)\nprint(\"Sorted by name (descending):\", sorted_by_name_desc)\n\n# Example 2: Sorting a list of custom objects\nclass Person:\n    def __init__(self, name, age):\n        self.name = name\n        self.age = age\n\n    def __repr__(self): # This allows us to print the object nicely\n        return f\"Person(name='{self.name}', age={self.age})\"\n\npeople = [\n    Person(\"Alice\", 30),\n    Person(\"Bob\", 25),\n    Person(\"Charlie\", 35),\n    Person(\"David\", 25)\n]\nprint(\"\\nOriginal people:\", people)\n\n# Sort people by age\nsorted_by_age = sorted(people, key=lambda person: person.age)\nprint(\"Sorted by age:\", sorted_by_age)\n\n# Sort people by name\nsorted_by_name = sorted(people, key=lambda person: person.name)\nprint(\"Sorted by name:\", sorted_by_name)\n\n# Sort people by age, then by name (for people with same age)\n# Python's sort is stable, so subsequent sorts preserve relative order of equal keys.\n# We can use a tuple as a key for multi-level sorting.\nsorted_by_age_then_name = sorted(people, key=lambda person: (person.age, person.name))\nprint(\"Sorted by age, then name:\", sorted_by_age_then_name)\n\n# A common alternative for object attributes: operator.attrgetter\nimport operator\nsorted_by_age_attr = sorted(people, key=operator.attrgetter('age'))\nprint(\"Sorted by age (using attrgetter):\", sorted_by_age_attr)\n```\n\n---\n\n### When to choose which method:\n\n*   **`list.sort()`**: Choose this when you don't need the original order of the list and want to save memory by modifying the list in place. It's generally slightly more efficient for lists.\n*   **`sorted()`**: Choose this when you need a new sorted list and want to preserve the original list, or when you are sorting something that isn't a list (like a tuple, string, or set)."
          },
          "metadata": {}
        }
      ],
      "source": [
        "from IPython.display import Markdown\n",
        "\n",
        "response = client.models.generate_content(\n",
        "    model=MODEL_ID,\n",
        "    contents=\"Please give me python code to sort a list.\"\n",
        ")\n",
        "\n",
        "display(Markdown(response.text))"
      ]
    },
    {
      "cell_type": "markdown",
      "metadata": {
        "id": "BTdQtZri1Brs"
      },
      "source": [
        "## Store your key in an environment variable"
      ]
    },
    {
      "cell_type": "markdown",
      "metadata": {
        "id": "gZDX51Y27pN4"
      },
      "source": [
        "If you're using a different development environment (or calling the Gemini API through `cURL` in your terminal), it's recommended to store your key in an environment variable.\n",
        "\n",
        "To store your key in an environment variable, open your terminal and run:\n",
        "\n",
        "```export GOOGLE_API_KEY=\"YOUR_API_KEY\"```\n",
        "\n",
        "If you're using Python, you can add these two lines to your notebook to read the key:\n",
        "\n",
        "```\n",
        "import os\n",
        "client = genai.Client(api_key=os.environ['GOOGLE_API_KEY'])\n",
        "```\n",
        "\n",
        "Alternatively, if it isn't provided explicitly, the client will look for the API key.\n",
        "\n",
        "```\n",
        "client = genai.Client()\n",
        "```\n",
        "\n",
        "Or, if you're calling the API through your terminal using `cURL`, you can copy and paste this code to read your key from the environment variable.\n",
        "\n",
        "```\n",
        "curl \"https://generativelanguage.googleapis.com/v1beta/models/gemini-2.0-flash:generateContent?key=$GOOGLE_API_KEY\" \\\n",
        "    -H 'Content-Type: application/json' \\\n",
        "    -X POST \\\n",
        "    -d '{\n",
        "      \"contents\": [{\n",
        "        \"parts\":[{\n",
        "          \"text\": \"Please give me Python code to sort a list.\"\n",
        "        }]\n",
        "      }]\n",
        "    }'\n",
        "```\n"
      ]
    },
    {
      "cell_type": "markdown",
      "metadata": {
        "id": "CAOKOcax1xZY"
      },
      "source": [
        "## Learning more\n",
        "\n",
        "Now that you know how to manage your API key, you've everything to [get started](./Get_started.ipynb) with Gemini. Check all the [quickstart guides](https://github.com/google-gemini/cookbook/tree/main/quickstarts) from the Cookbook, and in particular the [Get started](./Get_started.ipynb) one."
      ]
    }
  ],
  "metadata": {
    "colab": {
      "name": "Authentication.ipynb",
      "provenance": [],
      "include_colab_link": true
    },
    "google": {
      "image_path": "/site-assets/images/share.png",
      "keywords": [
        "examples",
        "googleai",
        "samplecode",
        "python",
        "embed",
        "function"
      ]
    },
    "kernelspec": {
      "display_name": "Python 3",
      "name": "python3"
    }
  },
  "nbformat": 4,
  "nbformat_minor": 0
}